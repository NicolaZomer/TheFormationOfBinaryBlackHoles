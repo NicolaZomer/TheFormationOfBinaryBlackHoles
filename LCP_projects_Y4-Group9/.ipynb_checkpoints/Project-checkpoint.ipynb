{
 "cells": [
  {
   "cell_type": "markdown",
   "metadata": {},
   "source": [
    "# Binary star evolution and binary black holes\n",
    "\n",
    "All the relevant information for the project are to be found in the pdf document present in the repo.\n",
    "Note that you are assigned to project 1 (as the title said).\n",
    "\n",
    "## Datasets \n",
    "\n",
    "Datasets are stored on Google Drive (link and description in the pdf document)\n",
    "\n",
    "### Contacts\n",
    "\n",
    "* Michela Mapelli <michela.mapelli@unipd.it>\n"
   ]
  },
  {
   "cell_type": "code",
   "execution_count": null,
   "metadata": {},
   "outputs": [],
   "source": [
    "import pandas as pd\n",
    "import numpy as np\n",
    "import string\n",
    "import glob\n",
    "import os\n",
    "import seaborn as sns\n",
    "import sklearn\n",
    "from sklearn.neural_network import MLPClassifier\n",
    "from sklearn.ensemble import RandomForestClassifier\n",
    "import matplotlib.pyplot as plt"
   ]
  },
  {
   "cell_type": "markdown",
   "metadata": {},
   "source": [
    "**Ognuno di voi dovrebbe provare a runnare os.getlogin() per vedere cosa esce, poi metterlo nell'if e aggiornare il path di conseguenza, così eliminiamo il lavoro di cambio di directory ogni volta. (Ho provato a fare un guess del path di Tommaso).**"
   ]
  },
  {
   "cell_type": "code",
<<<<<<< HEAD
   "execution_count": null,
=======
   "execution_count": 5,
>>>>>>> upstream/main
   "metadata": {},
   "outputs": [],
   "source": [
    "# personalized computer settings\n",
    "\n",
    "hname = os.getlogin()\n",
    "path = ''\n",
    "\n",
    "if hname=='paolozinesi': path = '/Users/paolozinesi/Downloads/Project_LCP_A/stable_MT_vs_CE/'\n",
    "if hname=='tommaso': path = \"/Users/tommaso/Desktop/MagistraleI/TheFormationOfBinaryBlackHoles_data/lab_data/stable_MT_vs_CE/\"\n",
    "#if hname=='NICOLAZOMER': path = \"PATHDINICOLA\"\n",
<<<<<<< HEAD
    "#if hname=='ANDREALAZZARI': path = \"PATHDIANDREA\""
=======
    "if hname=='ilazza': path = \"/home/ilazza/Documenti/UNIPD/TheFormationOfBinaryBlackHoles/stable_MT_vs_CE/\""
>>>>>>> upstream/main
   ]
  },
  {
   "cell_type": "code",
<<<<<<< HEAD
   "execution_count": null,
=======
   "execution_count": 6,
>>>>>>> upstream/main
   "metadata": {},
   "outputs": [],
   "source": [
    "alpha_values = [0.5, 1, 3, 5]\n",
    "met_values = [0.02, 0.002, 0.0002, 0.004, 0.0004, 0.006, 0.008, 0.012, 0.0012, 0.016, 0.0016]\n",
    "\n",
    "frame = pd.DataFrame(data=None, columns=['col.0:ID','col.1:m1ZAMS/Msun', 'col.2:m2ZAMS/Msun', 'col.3:m1rem/Msun','col.4:m2rem/Msun',  'col.6:delay_time/Myr', 'col.7:sma/Rsun', 'col.8:ecc', 'col.21:CE'])\n",
    "\n",
    "for alpha in alpha_values:\n",
    "    for met in met_values:\n",
    "        for name in glob.glob(path+f'A{alpha}/MTCE_BBHs_{met}*'):\n",
    "        #for name in glob.glob(f'/Users/tommaso/Desktop/MagistraleI/TheFormationOfBinaryBlackHoles_data/lab_data/stable_MT_vs_CE/A{alpha}/MTCE_BBHs_{met}*'):    \n",
    "        #for name in glob.glob(f'/data/TheFormationOfBinaryBlackHoles_data/stable_MT_vs_CE/A{alpha}/MTCE_BBHs_{met}*'):\n",
    "            df = pd.read_csv(name, skiprows=2, header=0, sep=' ')\n",
    "            df = df.loc[:,['col.0:ID','col.1:m1ZAMS/Msun', 'col.2:m2ZAMS/Msun','col.3:m1rem/Msun','col.4:m2rem/Msun',  'col.6:delay_time/Myr', 'col.7:sma/Rsun', 'col.8:ecc', 'col.21:CE']]\n",
    "            met_array = np.ones((df.shape[0], 1))*met\n",
    "            alpha_array = np.ones((df.shape[0],1))*alpha\n",
    "            df['metallicity'] = met_array\n",
    "            df['alpha'] = alpha_array\n",
    "            \n",
    "            frame = pd.concat([frame, df], axis=0, ignore_index=True)\n"
   ]
  },
  {
   "cell_type": "code",
<<<<<<< HEAD
   "execution_count": null,
   "metadata": {},
   "outputs": [],
=======
   "execution_count": 7,
   "metadata": {},
   "outputs": [
    {
     "data": {
      "text/html": [
       "<div>\n",
       "<style scoped>\n",
       "    .dataframe tbody tr th:only-of-type {\n",
       "        vertical-align: middle;\n",
       "    }\n",
       "\n",
       "    .dataframe tbody tr th {\n",
       "        vertical-align: top;\n",
       "    }\n",
       "\n",
       "    .dataframe thead th {\n",
       "        text-align: right;\n",
       "    }\n",
       "</style>\n",
       "<table border=\"1\" class=\"dataframe\">\n",
       "  <thead>\n",
       "    <tr style=\"text-align: right;\">\n",
       "      <th></th>\n",
       "      <th>col.0:ID</th>\n",
       "      <th>col.1:m1ZAMS/Msun</th>\n",
       "      <th>col.2:m2ZAMS/Msun</th>\n",
       "      <th>col.3:m1rem/Msun</th>\n",
       "      <th>col.4:m2rem/Msun</th>\n",
       "      <th>col.6:delay_time/Myr</th>\n",
       "      <th>col.7:sma/Rsun</th>\n",
       "      <th>col.8:ecc</th>\n",
       "      <th>col.21:CE</th>\n",
       "      <th>metallicity</th>\n",
       "      <th>alpha</th>\n",
       "    </tr>\n",
       "  </thead>\n",
       "  <tbody>\n",
       "    <tr>\n",
       "      <th>0</th>\n",
       "      <td>0_6942</td>\n",
       "      <td>50.9151</td>\n",
       "      <td>50.8356</td>\n",
       "      <td>4.8001</td>\n",
       "      <td>4.7478</td>\n",
       "      <td>2233.6292</td>\n",
       "      <td>7.9524</td>\n",
       "      <td>0.273150</td>\n",
       "      <td>True</td>\n",
       "      <td>0.02</td>\n",
       "      <td>0.5</td>\n",
       "    </tr>\n",
       "    <tr>\n",
       "      <th>1</th>\n",
       "      <td>0_80347</td>\n",
       "      <td>57.0253</td>\n",
       "      <td>56.9464</td>\n",
       "      <td>5.5849</td>\n",
       "      <td>5.5325</td>\n",
       "      <td>1076.5703</td>\n",
       "      <td>9.0222</td>\n",
       "      <td>0.508320</td>\n",
       "      <td>True</td>\n",
       "      <td>0.02</td>\n",
       "      <td>0.5</td>\n",
       "    </tr>\n",
       "    <tr>\n",
       "      <th>2</th>\n",
       "      <td>0_158611</td>\n",
       "      <td>91.0594</td>\n",
       "      <td>90.7083</td>\n",
       "      <td>8.3787</td>\n",
       "      <td>8.2624</td>\n",
       "      <td>6810.4365</td>\n",
       "      <td>14.9810</td>\n",
       "      <td>0.072798</td>\n",
       "      <td>True</td>\n",
       "      <td>0.02</td>\n",
       "      <td>0.5</td>\n",
       "    </tr>\n",
       "    <tr>\n",
       "      <th>3</th>\n",
       "      <td>0_211410</td>\n",
       "      <td>117.9396</td>\n",
       "      <td>57.6917</td>\n",
       "      <td>19.3984</td>\n",
       "      <td>11.2422</td>\n",
       "      <td>7905.6343</td>\n",
       "      <td>11229.0000</td>\n",
       "      <td>0.999640</td>\n",
       "      <td>False</td>\n",
       "      <td>0.02</td>\n",
       "      <td>0.5</td>\n",
       "    </tr>\n",
       "    <tr>\n",
       "      <th>4</th>\n",
       "      <td>0_213101</td>\n",
       "      <td>40.2965</td>\n",
       "      <td>40.2439</td>\n",
       "      <td>3.1045</td>\n",
       "      <td>3.0769</td>\n",
       "      <td>8703.5479</td>\n",
       "      <td>13.7630</td>\n",
       "      <td>0.705290</td>\n",
       "      <td>True</td>\n",
       "      <td>0.02</td>\n",
       "      <td>0.5</td>\n",
       "    </tr>\n",
       "  </tbody>\n",
       "</table>\n",
       "</div>"
      ],
      "text/plain": [
       "   col.0:ID  col.1:m1ZAMS/Msun  col.2:m2ZAMS/Msun  col.3:m1rem/Msun  \\\n",
       "0    0_6942            50.9151            50.8356            4.8001   \n",
       "1   0_80347            57.0253            56.9464            5.5849   \n",
       "2  0_158611            91.0594            90.7083            8.3787   \n",
       "3  0_211410           117.9396            57.6917           19.3984   \n",
       "4  0_213101            40.2965            40.2439            3.1045   \n",
       "\n",
       "   col.4:m2rem/Msun  col.6:delay_time/Myr  col.7:sma/Rsun  col.8:ecc  \\\n",
       "0            4.7478             2233.6292          7.9524   0.273150   \n",
       "1            5.5325             1076.5703          9.0222   0.508320   \n",
       "2            8.2624             6810.4365         14.9810   0.072798   \n",
       "3           11.2422             7905.6343      11229.0000   0.999640   \n",
       "4            3.0769             8703.5479         13.7630   0.705290   \n",
       "\n",
       "  col.21:CE  metallicity  alpha  \n",
       "0      True         0.02    0.5  \n",
       "1      True         0.02    0.5  \n",
       "2      True         0.02    0.5  \n",
       "3     False         0.02    0.5  \n",
       "4      True         0.02    0.5  "
      ]
     },
     "execution_count": 7,
     "metadata": {},
     "output_type": "execute_result"
    }
   ],
>>>>>>> upstream/main
   "source": [
    "frame.head()"
   ]
  },
  {
   "cell_type": "code",
   "execution_count": null,
   "metadata": {},
   "outputs": [],
   "source": [
    "#Creating the a dataframe with common envelopes and one with mass transfer\n",
    "frame_true = frame[(frame['col.21:CE'] == True)] \n",
    "frame_true = frame_true.reset_index(drop=True)\n",
    "frame_false = frame[(frame['col.21:CE'] == False)] \n",
    "frame_false = frame_false.reset_index(drop=True)"
   ]
  },
  {
   "cell_type": "code",
   "execution_count": null,
   "metadata": {},
   "outputs": [],
   "source": [
    "frame_true.head()\n",
    "\n"
   ]
  },
  {
   "cell_type": "code",
   "execution_count": null,
   "metadata": {},
   "outputs": [],
   "source": [
    "frame_false.head()"
   ]
  },
  {
   "cell_type": "code",
   "execution_count": null,
   "metadata": {},
   "outputs": [],
   "source": [
    "#frame_graph = frame.drop(columns=['col.0:ID'], axis=1)\n",
    "#sns.pairplot(frame, hue = 'col.21:CE', palette='Set2')"
   ]
  },
  {
   "cell_type": "code",
   "execution_count": null,
   "metadata": {},
   "outputs": [],
   "source": [
    "#frame_graph.head()"
   ]
  },
  {
   "cell_type": "markdown",
   "metadata": {},
   "source": [
    "**!!! WARNING, il blocco sotto ci mette un paio d'ore per runnare**"
   ]
  },
  {
   "cell_type": "code",
   "execution_count": null,
   "metadata": {},
   "outputs": [],
   "source": [
    "\n",
    "\n",
    "\n",
    "#frame_graph = frame.drop(columns=['col.0:ID', 'metallicity', 'alpha'], axis=1)\n",
    "#sns.pairplot(frame_graph, hue = 'col.21:CE', palette='Set2')\n",
    "                    "
   ]
  },
  {
   "cell_type": "markdown",
   "metadata": {},
   "source": [
    "## ML algorithms"
   ]
  },
  {
   "cell_type": "code",
   "execution_count": null,
   "metadata": {},
   "outputs": [],
   "source": [
    "m_train = 20000\n",
    "m_test = 1000\n",
    "\n",
    "frame_sample = pd.concat([frame_true.sample(n=int(0.5*(m_train+m_test))),\n",
    "                          frame_false.sample(n=int(0.5*(m_train+m_test)))], ignore_index=True)\n",
    "\n",
    "frame_train = frame_sample.iloc[:m_train]\n",
    "frame_test = frame_sample.iloc[-m_test:]\n",
    "\n",
    "\n",
    "# convert dataframe into a numpy array\n",
    "X_train = frame_train.drop(labels=[\"col.0:ID\",\"col.21:CE\"], axis=1).values\n",
    "Y_train = frame_train[\"col.21:CE\"].apply(lambda x: np.sum(x)).values\n",
    "X_test = frame_test.drop(labels=[\"col.0:ID\",\"col.21:CE\"], axis=1).values\n",
    "Y_test = frame_test[\"col.21:CE\"].apply(lambda x: np.sum(x)).values"
   ]
  },
  {
   "cell_type": "markdown",
   "metadata": {},
   "source": [
    "#### Random Forest"
   ]
  },
  {
   "cell_type": "code",
   "execution_count": null,
   "metadata": {},
   "outputs": [],
   "source": [
    "RF_clf = RandomForestClassifier(max_depth=None)\n",
    "RF_clf.fit(X_train, Y_train)\n",
    "\n",
    "train_err = 1 - RF_clf.score(X_train, Y_train)\n",
    "print(\"Training error = %1.3f\" % train_err)\n",
    "\n",
    "test_err = 1 - RF_clf.score(X_test, Y_test)\n",
    "print(\"Test error = %1.3f\" % test_err)"
   ]
  },
  {
   "cell_type": "markdown",
   "metadata": {},
   "source": [
    "#### SVM"
   ]
  },
  {
   "cell_type": "code",
   "execution_count": null,
   "metadata": {},
   "outputs": [],
   "source": [
    "SVM_clf = sklearn.svm.SVC()\n",
    "SVM_clf.fit(X_train, Y_train)\n",
    "\n",
    "train_err = 1 - SVM_clf.score(X_train, Y_train)\n",
    "print(\"Training error = %1.3f\" % train_err)\n",
    "\n",
    "test_err = 1 - SVM_clf.score(X_test, Y_test)\n",
    "print(\"Test error = %1.3f\" % test_err)"
   ]
  },
  {
   "cell_type": "markdown",
   "metadata": {},
   "source": [
    "#### Neural Network"
   ]
  },
  {
   "cell_type": "code",
   "execution_count": null,
   "metadata": {},
   "outputs": [],
   "source": [
    "NN_clf = MLPClassifier(hidden_layer_sizes=(50,), learning_rate='adaptive')\n",
    "NN_clf.fit(X_train, Y_train)\n",
    "\n",
    "train_err = 1 - NN_clf.score(X_train, Y_train)\n",
    "print(\"Training error = %1.3f\" % train_err)\n",
    "\n",
    "test_err = 1 - NN_clf.score(X_test, Y_test)\n",
    "print(\"Test error = %1.3f\" % test_err)"
   ]
  },
  {
   "cell_type": "code",
   "execution_count": null,
   "metadata": {},
   "outputs": [],
   "source": [
    "frame_sample.head()\n",
    "frame_sample_2 = frame_sample.drop(columns=['col.0:ID'])\n",
    "frame_sample_2.head()"
   ]
  },
  {
   "cell_type": "code",
   "execution_count": null,
   "metadata": {},
   "outputs": [],
   "source": [
    "sns.pairplot(frame_sample_2, hue = 'col.21:CE', palette='Set2')    "
   ]
  },
  {
   "cell_type": "code",
   "execution_count": null,
   "metadata": {},
   "outputs": [],
   "source": [
    "plt.hist(frame_sample_2[frame_sample_2['col.21:CE']==True]['metallicity'], bins = 50, alpha = 0.5)\n",
    "plt.hist(frame_sample_2[frame_sample_2['col.21:CE']==False]['metallicity'], bins = 50, alpha = 0.5)\n",
    "plt.show()"
   ]
  },
  {
   "cell_type": "code",
   "execution_count": null,
   "metadata": {},
   "outputs": [],
   "source": [
    "frame_false"
   ]
  },
  {
   "cell_type": "code",
   "execution_count": null,
   "metadata": {},
   "outputs": [],
   "source": [
    "plt.hist(frame_true['metallicity'], bins = 40, alpha = 0.5, density=True, color='r')\n",
    "plt.hist(frame_false['metallicity'], bins = 40, alpha = 0.5, density=True, color='g')\n",
    "plt.yscale('log')\n",
    "plt.show()"
   ]
  },
  {
   "cell_type": "code",
   "execution_count": null,
   "metadata": {},
   "outputs": [],
   "source": [
    "frame_true[frame_true['metallicity']==0.008].count()"
   ]
  },
  {
   "cell_type": "code",
   "execution_count": null,
   "metadata": {},
   "outputs": [],
   "source": [
    "frame_false[frame_false['metallicity']==0.02].count()"
   ]
  },
  {
   "cell_type": "code",
   "execution_count": null,
   "metadata": {},
   "outputs": [],
   "source": [
    "frame_false['metallicity'].unique()"
   ]
  },
  {
   "cell_type": "code",
   "execution_count": null,
   "metadata": {},
   "outputs": [],
   "source": [
    "\n",
    "fig, ax = plt.subplots(nrows= 2, ncols=2, figsize=(20, 7))\n",
    "ax[0,0].hist(frame_true['col.1:m1ZAMS/Msun'], bins='fd', density=True, alpha=0.5, label='True')\n",
    "ax[0,0].hist(frame_false['col.1:m1ZAMS/Msun'], bins='fd', density=True, alpha=0.5, label='False')\n",
    "ax[0,1].hist(frame_true['col.3:m1rem/Msun'], bins='fd', density=True, alpha=0.5, label='True')\n",
    "ax[0,1].hist(frame_false['col.3:m1rem/Msun'], bins='fd', density=True, alpha=0.5, label='False')\n",
    "ax[1,0].hist(frame_true['col.4:m2rem/Msun'], bins='fd', density=True, alpha=0.5, label='True')\n",
    "ax[1,0].hist(frame_false['col.4:m2rem/Msun'], bins='fd', density=True, alpha=0.5, label='False')\n",
    "ax[1,1].hist(frame_true['col.2:m2ZAMS/Msun'], bins='fd', density=True, alpha=0.5, label='True')\n",
    "ax[1,1].hist(frame_false['col.2:m2ZAMS/Msun'], bins='fd', density=True, alpha=0.5, label='False')\n",
    "\n",
    "\n",
    "fig.legend()\n",
    "fig.tight_layout()\n"
   ]
  },
  {
   "cell_type": "code",
   "execution_count": null,
   "metadata": {},
   "outputs": [],
   "source": [
    "fig, ax = plt.subplots(nrows= 1, ncols=1, figsize=(7, 7))\n",
    "ax.hist(frame_true['col.7:sma/Rsun'], bins='fd', density=True, alpha=0.5, label='True')\n",
    "ax.hist(frame_false['col.7:sma/Rsun'], bins='fd', density=True, alpha=0.5, label='False')"
   ]
  },
  {
   "cell_type": "code",
   "execution_count": null,
   "metadata": {},
   "outputs": [],
   "source": []
  }
 ],
 "metadata": {
  "kernelspec": {
   "display_name": "Python 3",
   "language": "python",
   "name": "python3"
  },
  "language_info": {
   "codemirror_mode": {
    "name": "ipython",
    "version": 3
   },
   "file_extension": ".py",
   "mimetype": "text/x-python",
   "name": "python",
   "nbconvert_exporter": "python",
   "pygments_lexer": "ipython3",
   "version": "3.8.10"
  }
 },
 "nbformat": 4,
 "nbformat_minor": 2
}
