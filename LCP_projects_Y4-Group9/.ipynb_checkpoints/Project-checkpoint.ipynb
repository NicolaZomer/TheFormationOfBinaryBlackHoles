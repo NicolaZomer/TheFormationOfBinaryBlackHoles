{
 "cells": [
  {
   "cell_type": "markdown",
   "metadata": {},
   "source": [
    "# Binary star evolution and binary black holes\n",
    "\n",
    "All the relevant information for the project are to be found in the pdf document present in the repo.\n",
    "Note that you are assigned to project 1 (as the title said).\n",
    "\n",
    "## Datasets \n",
    "\n",
    "Datasets are stored on Google Drive (link and description in the pdf document)\n",
    "\n",
    "### Contacts\n",
    "\n",
    "* Michela Mapelli <michela.mapelli@unipd.it>\n"
   ]
  },
  {
   "cell_type": "code",
   "execution_count": null,
   "metadata": {},
   "outputs": [],
   "source": [
    "import pandas as pd\n",
    "import numpy as np\n",
    "import string\n",
    "import glob\n",
    "import os\n",
    "import seaborn as sns\n",
    "import sklearn\n",
    "from sklearn.neural_network import MLPClassifier\n",
    "from sklearn.ensemble import RandomForestClassifier\n",
    "import matplotlib.pyplot as plt"
   ]
  },
  {
   "cell_type": "markdown",
   "metadata": {},
   "source": [
    "**Ognuno di voi dovrebbe provare a runnare os.getlogin() per vedere cosa esce, poi metterlo nell'if e aggiornare il path di conseguenza, così eliminiamo il lavoro di cambio di directory ogni volta. (Ho provato a fare un guess del path di Tommaso).**"
   ]
  },
  {
   "cell_type": "code",
   "execution_count": null,
   "metadata": {},
   "outputs": [],
   "source": [
    "# personalized computer settings\n",
    "\n",
    "hname = os.getlogin()\n",
    "path = ''\n",
    "\n",
    "if hname=='paolozinesi': path = '/Users/paolozinesi/Downloads/Project_LCP_A/stable_MT_vs_CE/'\n",
    "if hname=='tommaso': path = \"/Users/tommaso/Desktop/MagistraleI/TheFormationOfBinaryBlackHoles_data/lab_data/stable_MT_vs_CE/\"\n",
    "#if hname=='NICOLAZOMER': path = \"PATHDINICOLA\"\n",
    "#if hname=='ANDREALAZZARI': path = \"PATHDIANDREA\""
   ]
  },
  {
   "cell_type": "code",
   "execution_count": null,
   "metadata": {},
   "outputs": [],
   "source": [
    "alpha_values = [0.5, 1, 3, 5]\n",
    "met_values = [0.02, 0.002, 0.0002, 0.004, 0.0004, 0.006, 0.008, 0.012, 0.0012, 0.016, 0.0016]\n",
    "\n",
    "frame = pd.DataFrame(data=None, columns=['col.0:ID','col.1:m1ZAMS/Msun', 'col.2:m2ZAMS/Msun', 'col.3:m1rem/Msun','col.4:m2rem/Msun',  'col.6:delay_time/Myr', 'col.7:sma/Rsun', 'col.8:ecc', 'col.21:CE'])\n",
    "\n",
    "for alpha in alpha_values:\n",
    "    for met in met_values:\n",
    "        for name in glob.glob(path+f'A{alpha}/MTCE_BBHs_{met}*'):\n",
    "        #for name in glob.glob(f'/Users/tommaso/Desktop/MagistraleI/TheFormationOfBinaryBlackHoles_data/lab_data/stable_MT_vs_CE/A{alpha}/MTCE_BBHs_{met}*'):    \n",
    "        #for name in glob.glob(f'/data/TheFormationOfBinaryBlackHoles_data/stable_MT_vs_CE/A{alpha}/MTCE_BBHs_{met}*'):\n",
    "            df = pd.read_csv(name, skiprows=2, header=0, sep=' ')\n",
    "            df = df.loc[:,['col.0:ID','col.1:m1ZAMS/Msun', 'col.2:m2ZAMS/Msun','col.3:m1rem/Msun','col.4:m2rem/Msun',  'col.6:delay_time/Myr', 'col.7:sma/Rsun', 'col.8:ecc', 'col.21:CE']]\n",
    "            met_array = np.ones((df.shape[0], 1))*met\n",
    "            alpha_array = np.ones((df.shape[0],1))*alpha\n",
    "            df['metallicity'] = met_array\n",
    "            df['alpha'] = alpha_array\n",
    "            \n",
    "            frame = pd.concat([frame, df], axis=0, ignore_index=True)\n"
   ]
  },
  {
   "cell_type": "code",
   "execution_count": null,
   "metadata": {},
   "outputs": [],
   "source": [
    "frame.head()"
   ]
  },
  {
   "cell_type": "code",
   "execution_count": null,
   "metadata": {},
   "outputs": [],
   "source": [
    "#Creating the a dataframe with common envelopes and one with mass transfer\n",
    "frame_true = frame[(frame['col.21:CE'] == True)] \n",
    "frame_true = frame_true.reset_index(drop=True)\n",
    "frame_false = frame[(frame['col.21:CE'] == False)] \n",
    "frame_false = frame_false.reset_index(drop=True)"
   ]
  },
  {
   "cell_type": "code",
   "execution_count": null,
   "metadata": {},
   "outputs": [],
   "source": [
    "frame_true.head()\n",
    "\n"
   ]
  },
  {
   "cell_type": "code",
   "execution_count": null,
   "metadata": {},
   "outputs": [],
   "source": [
    "frame_false.head()"
   ]
  },
  {
   "cell_type": "code",
   "execution_count": null,
   "metadata": {},
   "outputs": [],
   "source": [
    "#frame_graph = frame.drop(columns=['col.0:ID'], axis=1)\n",
    "#sns.pairplot(frame, hue = 'col.21:CE', palette='Set2')"
   ]
  },
  {
   "cell_type": "code",
   "execution_count": null,
   "metadata": {},
   "outputs": [],
   "source": [
    "#frame_graph.head()"
   ]
  },
  {
   "cell_type": "markdown",
   "metadata": {},
   "source": [
    "**!!! WARNING, il blocco sotto ci mette un paio d'ore per runnare**"
   ]
  },
  {
   "cell_type": "code",
   "execution_count": null,
   "metadata": {},
   "outputs": [],
   "source": [
    "\n",
    "\n",
    "\n",
    "#frame_graph = frame.drop(columns=['col.0:ID', 'metallicity', 'alpha'], axis=1)\n",
    "#sns.pairplot(frame_graph, hue = 'col.21:CE', palette='Set2')\n",
    "                    "
   ]
  },
  {
   "cell_type": "markdown",
   "metadata": {},
   "source": [
    "## ML algorithms"
   ]
  },
  {
   "cell_type": "code",
   "execution_count": null,
   "metadata": {},
   "outputs": [],
   "source": [
    "m_train = 20000\n",
    "m_test = 1000\n",
    "\n",
    "frame_sample = pd.concat([frame_true.sample(n=int(0.5*(m_train+m_test))),\n",
    "                          frame_false.sample(n=int(0.5*(m_train+m_test)))], ignore_index=True)\n",
    "\n",
    "frame_train = frame_sample.iloc[:m_train]\n",
    "frame_test = frame_sample.iloc[-m_test:]\n",
    "\n",
    "\n",
    "# convert dataframe into a numpy array\n",
    "X_train = frame_train.drop(labels=[\"col.0:ID\",\"col.21:CE\"], axis=1).values\n",
    "Y_train = frame_train[\"col.21:CE\"].apply(lambda x: np.sum(x)).values\n",
    "X_test = frame_test.drop(labels=[\"col.0:ID\",\"col.21:CE\"], axis=1).values\n",
    "Y_test = frame_test[\"col.21:CE\"].apply(lambda x: np.sum(x)).values"
   ]
  },
  {
   "cell_type": "markdown",
   "metadata": {},
   "source": [
    "#### Random Forest"
   ]
  },
  {
   "cell_type": "code",
   "execution_count": null,
   "metadata": {},
   "outputs": [],
   "source": [
    "RF_clf = RandomForestClassifier(max_depth=None)\n",
    "RF_clf.fit(X_train, Y_train)\n",
    "\n",
    "train_err = 1 - RF_clf.score(X_train, Y_train)\n",
    "print(\"Training error = %1.3f\" % train_err)\n",
    "\n",
    "test_err = 1 - RF_clf.score(X_test, Y_test)\n",
    "print(\"Test error = %1.3f\" % test_err)"
   ]
  },
  {
   "cell_type": "markdown",
   "metadata": {},
   "source": [
    "#### SVM"
   ]
  },
  {
   "cell_type": "code",
   "execution_count": null,
   "metadata": {},
   "outputs": [],
   "source": [
    "SVM_clf = sklearn.svm.SVC()\n",
    "SVM_clf.fit(X_train, Y_train)\n",
    "\n",
    "train_err = 1 - SVM_clf.score(X_train, Y_train)\n",
    "print(\"Training error = %1.3f\" % train_err)\n",
    "\n",
    "test_err = 1 - SVM_clf.score(X_test, Y_test)\n",
    "print(\"Test error = %1.3f\" % test_err)"
   ]
  },
  {
   "cell_type": "markdown",
   "metadata": {},
   "source": [
    "#### Neural Network"
   ]
  },
  {
   "cell_type": "code",
   "execution_count": null,
   "metadata": {},
   "outputs": [],
   "source": [
    "NN_clf = MLPClassifier(hidden_layer_sizes=(50,), learning_rate='adaptive')\n",
    "NN_clf.fit(X_train, Y_train)\n",
    "\n",
    "train_err = 1 - NN_clf.score(X_train, Y_train)\n",
    "print(\"Training error = %1.3f\" % train_err)\n",
    "\n",
    "test_err = 1 - NN_clf.score(X_test, Y_test)\n",
    "print(\"Test error = %1.3f\" % test_err)"
   ]
  },
  {
   "cell_type": "code",
   "execution_count": null,
   "metadata": {},
   "outputs": [],
   "source": [
    "frame_sample.head()\n",
    "frame_sample_2 = frame_sample.drop(columns=['col.0:ID'])\n",
    "frame_sample_2.head()"
   ]
  },
  {
   "cell_type": "code",
   "execution_count": null,
   "metadata": {},
   "outputs": [],
   "source": [
    "sns.pairplot(frame_sample_2, hue = 'col.21:CE', palette='Set2')    "
   ]
  },
  {
   "cell_type": "code",
   "execution_count": null,
   "metadata": {},
   "outputs": [],
   "source": [
    "plt.hist(frame_sample_2[frame_sample_2['col.21:CE']==True]['metallicity'], bins = 50, alpha = 0.5)\n",
    "plt.hist(frame_sample_2[frame_sample_2['col.21:CE']==False]['metallicity'], bins = 50, alpha = 0.5)\n",
    "plt.show()"
   ]
  },
  {
   "cell_type": "code",
   "execution_count": null,
   "metadata": {},
   "outputs": [],
   "source": [
    "frame_false"
   ]
  },
  {
   "cell_type": "code",
   "execution_count": null,
   "metadata": {},
   "outputs": [],
   "source": [
    "plt.hist(frame_true['metallicity'], bins = 40, alpha = 0.5, density=True, color='r')\n",
    "plt.hist(frame_false['metallicity'], bins = 40, alpha = 0.5, density=True, color='g')\n",
    "plt.yscale('log')\n",
    "plt.show()"
   ]
  },
  {
   "cell_type": "code",
   "execution_count": null,
   "metadata": {},
   "outputs": [],
   "source": [
    "frame_true[frame_true['metallicity']==0.008].count()"
   ]
  },
  {
   "cell_type": "code",
   "execution_count": null,
   "metadata": {},
   "outputs": [],
   "source": [
    "frame_false[frame_false['metallicity']==0.02].count()"
   ]
  },
  {
   "cell_type": "code",
   "execution_count": null,
   "metadata": {},
   "outputs": [],
   "source": [
    "frame_false['metallicity'].unique()"
   ]
  },
  {
   "cell_type": "code",
   "execution_count": null,
   "metadata": {},
   "outputs": [],
   "source": [
    "\n",
    "fig, ax = plt.subplots(nrows= 2, ncols=2, figsize=(20, 7))\n",
    "ax[0,0].hist(frame_true['col.1:m1ZAMS/Msun'], bins='fd', density=True, alpha=0.5, label='True')\n",
    "ax[0,0].hist(frame_false['col.1:m1ZAMS/Msun'], bins='fd', density=True, alpha=0.5, label='False')\n",
    "ax[0,1].hist(frame_true['col.3:m1rem/Msun'], bins='fd', density=True, alpha=0.5, label='True')\n",
    "ax[0,1].hist(frame_false['col.3:m1rem/Msun'], bins='fd', density=True, alpha=0.5, label='False')\n",
    "ax[1,0].hist(frame_true['col.4:m2rem/Msun'], bins='fd', density=True, alpha=0.5, label='True')\n",
    "ax[1,0].hist(frame_false['col.4:m2rem/Msun'], bins='fd', density=True, alpha=0.5, label='False')\n",
    "ax[1,1].hist(frame_true['col.2:m2ZAMS/Msun'], bins='fd', density=True, alpha=0.5, label='True')\n",
    "ax[1,1].hist(frame_false['col.2:m2ZAMS/Msun'], bins='fd', density=True, alpha=0.5, label='False')\n",
    "\n",
    "\n",
    "fig.legend()\n",
    "fig.tight_layout()\n"
   ]
  },
  {
   "cell_type": "code",
   "execution_count": null,
   "metadata": {},
   "outputs": [],
   "source": [
    "fig, ax = plt.subplots(nrows= 1, ncols=1, figsize=(7, 7))\n",
    "ax.hist(frame_true['col.7:sma/Rsun'], bins='fd', density=True, alpha=0.5, label='True')\n",
    "ax.hist(frame_false['col.7:sma/Rsun'], bins='fd', density=True, alpha=0.5, label='False')"
   ]
  },
  {
   "cell_type": "code",
   "execution_count": null,
   "metadata": {},
   "outputs": [],
   "source": []
  }
 ],
 "metadata": {
  "kernelspec": {
   "display_name": "Python 3 (ipykernel)",
   "language": "python",
   "name": "python3"
  },
  "language_info": {
   "codemirror_mode": {
    "name": "ipython",
    "version": 3
   },
   "file_extension": ".py",
   "mimetype": "text/x-python",
   "name": "python",
   "nbconvert_exporter": "python",
   "pygments_lexer": "ipython3",
   "version": "3.8.12"
  }
 },
 "nbformat": 4,
 "nbformat_minor": 2
}
